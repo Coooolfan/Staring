{
 "cells": [
  {
   "metadata": {
    "ExecuteTime": {
     "end_time": "2024-05-18T16:47:12.385626Z",
     "start_time": "2024-05-18T16:47:12.187579Z"
    }
   },
   "cell_type": "code",
   "source": [
    "# 初始化模型\n",
    "import torch\n",
    "from ultralytics import YOLO\n",
    "\n",
    "device = torch.device(\"cuda\" if torch.cuda.is_available() else \"cpu\")\n",
    "print(\"Using device:\", device)\n",
    "model = YOLO('yolov8n.pt')\n",
    "if device.type == \"cuda\":\n",
    "    model = model.to(device)\n"
   ],
   "id": "c30b7285469bbc43",
   "outputs": [
    {
     "name": "stdout",
     "output_type": "stream",
     "text": [
      "Using device: cuda\n"
     ]
    }
   ],
   "execution_count": 45
  },
  {
   "metadata": {
    "ExecuteTime": {
     "end_time": "2024-05-18T17:17:36.796014Z",
     "start_time": "2024-05-18T17:17:35.897900Z"
    }
   },
   "cell_type": "code",
   "source": [
    "import cv2\n",
    "\n",
    "# 加载图片\n",
    "# frame = \"pics/p2b1.jpg\"\n",
    "_,frame = cv2.VideoCapture(0).read()\n",
    "results = model.track(frame, persist=True, classes=[0])\n",
    "results = results[0]"
   ],
   "id": "fc58ffe8d86bc92c",
   "outputs": [
    {
     "name": "stdout",
     "output_type": "stream",
     "text": [
      "\n",
      "0: 480x640 (no detections), 12.6ms\n",
      "Speed: 6.0ms preprocess, 12.6ms inference, 0.0ms postprocess per image at shape (1, 3, 480, 640)\n"
     ]
    }
   ],
   "execution_count": 80
  },
  {
   "metadata": {
    "ExecuteTime": {
     "end_time": "2024-05-18T17:21:00.982348Z",
     "start_time": "2024-05-18T17:21:00.977430Z"
    }
   },
   "cell_type": "code",
   "source": [
    "# 显示结果\n",
    "# results.show()\n",
    "print(type(results))\n",
    "for box in results.boxes:\n",
    "    print(\"A box\")\n",
    "    print(box)\n",
    "# int(results.boxes.id)\n",
    "# for box in results.boxes:\n",
    "#     print(box)"
   ],
   "id": "3ee38bb51121e2be",
   "outputs": [
    {
     "name": "stdout",
     "output_type": "stream",
     "text": [
      "<class 'ultralytics.engine.results.Results'>\n"
     ]
    }
   ],
   "execution_count": 90
  }
 ],
 "metadata": {
  "kernelspec": {
   "display_name": "Python 3",
   "language": "python",
   "name": "python3"
  },
  "language_info": {
   "codemirror_mode": {
    "name": "ipython",
    "version": 2
   },
   "file_extension": ".py",
   "mimetype": "text/x-python",
   "name": "python",
   "nbconvert_exporter": "python",
   "pygments_lexer": "ipython2",
   "version": "2.7.6"
  }
 },
 "nbformat": 4,
 "nbformat_minor": 5
}
